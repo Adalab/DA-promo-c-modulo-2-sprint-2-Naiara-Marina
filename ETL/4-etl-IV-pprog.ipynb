{
 "cells": [
  {
   "cell_type": "code",
   "execution_count": null,
   "metadata": {},
   "outputs": [],
   "source": [
    "import pandas as pd\n",
    "import numpy as np"
   ]
  },
  {
   "cell_type": "code",
   "execution_count": null,
   "metadata": {},
   "outputs": [
    {
     "ename": "",
     "evalue": "",
     "output_type": "error",
     "traceback": [
      "\u001b[1;31mRunning cells with 'base' requires ipykernel package.\n",
      "\u001b[1;31mRun the following command to install 'ipykernel' into the Python environment. \n",
      "\u001b[1;31mCommand: 'conda install -n base ipykernel --update-deps --force-reinstall'"
     ]
    }
   ],
   "source": [
    "import pandas as pd\n",
    "import numpy as np\n",
    "import requests\n",
    "import mysql.connector"
   ]
  },
  {
   "cell_type": "code",
   "execution_count": null,
   "metadata": {},
   "outputs": [
    {
     "ename": "",
     "evalue": "",
     "output_type": "error",
     "traceback": [
      "\u001b[1;31mRunning cells with 'base' requires ipykernel package.\n",
      "\u001b[1;31mRun the following command to install 'ipykernel' into the Python environment. \n",
      "\u001b[1;31mCommand: 'conda install -n base ipykernel --update-deps --force-reinstall'"
     ]
    }
   ],
   "source": [
    "df = pd.read_csv('/mnt/d/Adalab/ejercicios-de-adalab/modulo-2/8-ETL-mod-2/files/datos_union_clima_ataques.csv', index_col = 0)\n",
    "df.head(2)"
   ]
  },
  {
   "attachments": {},
   "cell_type": "markdown",
   "metadata": {},
   "source": [
    "- CREACIÓN BBDD"
   ]
  },
  {
   "cell_type": "code",
   "execution_count": null,
   "metadata": {},
   "outputs": [
    {
     "ename": "",
     "evalue": "",
     "output_type": "error",
     "traceback": [
      "\u001b[1;31mRunning cells with 'base' requires ipykernel package.\n",
      "\u001b[1;31mRun the following command to install 'ipykernel' into the Python environment. \n",
      "\u001b[1;31mCommand: 'conda install -n base ipykernel --update-deps --force-reinstall'"
     ]
    }
   ],
   "source": [
    "def crear_bbdd(nombre_bbdd):\n",
    "    \n",
    "    mydb = mysql.connector.connect(\n",
    "      host=\"localhost\",\n",
    "      user=\"root\",\n",
    "      password=\"Marinadalab\" # aquí tendréis que poner vuestra contraseña de MySQL\n",
    "    )\n",
    "    print(\"Conexión realizada con éxito\")\n",
    "    \n",
    "    mycursor = mydb.cursor()\n",
    "\n",
    "    try:\n",
    "        mycursor.execute(f\"CREATE DATABASE IF NOT EXISTS {nombre_bbdd};\")\n",
    "        print(mycursor)\n",
    "    except mysql.connector.Error as err:\n",
    "        print(err)\n",
    "        print(\"Error Code:\", err.errno)\n",
    "        print(\"SQLSTATE\", err.sqlstate)\n",
    "        print(\"Message\", err.msg)"
   ]
  },
  {
   "cell_type": "code",
   "execution_count": null,
   "metadata": {},
   "outputs": [
    {
     "ename": "",
     "evalue": "",
     "output_type": "error",
     "traceback": [
      "\u001b[1;31mRunning cells with 'base' requires ipykernel package.\n",
      "\u001b[1;31mRun the following command to install 'ipykernel' into the Python environment. \n",
      "\u001b[1;31mCommand: 'conda install -n base ipykernel --update-deps --force-reinstall'"
     ]
    }
   ],
   "source": [
    "mydb = crear_bbdd('tiburones')"
   ]
  },
  {
   "attachments": {},
   "cell_type": "markdown",
   "metadata": {},
   "source": [
    "CREACIÓN TABLAS"
   ]
  },
  {
   "cell_type": "code",
   "execution_count": null,
   "metadata": {},
   "outputs": [
    {
     "ename": "",
     "evalue": "",
     "output_type": "error",
     "traceback": [
      "\u001b[1;31mRunning cells with 'base' requires ipykernel package.\n",
      "\u001b[1;31mRun the following command to install 'ipykernel' into the Python environment. \n",
      "\u001b[1;31mCommand: 'conda install -n base ipykernel --update-deps --force-reinstall'"
     ]
    }
   ],
   "source": [
    "# primero crearnos una función que valga para crear o insertar datos de cq tabla, con 3 parametros: \n",
    "# Nombre BBDD           # Contraseña servidor de SQL    # Query a insertar\n",
    "                                                                                            \n",
    "\n",
    "def crear_insertar_tabla(nombre_bbdd, contraseña, query):\n",
    "    \n",
    "    # nos conectamsos con el servidor usando el conector de sql\n",
    "    cnx = mysql.connector.connect(user='root', password=f\"{contraseña}\",\n",
    "                                     host='127.0.0.1', database=f\"{nombre_bbdd}\")\n",
    "    # iniciamos el cursor\n",
    "    mycursor = cnx.cursor()\n",
    "    \n",
    "    # intentamos hacer la query\n",
    "    try: \n",
    "        mycursor.execute(query)\n",
    "        cnx.commit() \n",
    "    # en caso de que podamos ejecutar la query devuelvenos un error para saber en que nos estamos equivocando\n",
    "    except mysql.connector.Error as err:\n",
    "        print(err)\n",
    "        print(\"Error Code:\", err.errno)\n",
    "        print(\"SQLSTATE\", err.sqlstate)\n",
    "        print(\"Message\", err.msg)"
   ]
  },
  {
   "cell_type": "code",
   "execution_count": null,
   "metadata": {},
   "outputs": [
    {
     "ename": "",
     "evalue": "",
     "output_type": "error",
     "traceback": [
      "\u001b[1;31mRunning cells with 'base' requires ipykernel package.\n",
      "\u001b[1;31mRun the following command to install 'ipykernel' into the Python environment. \n",
      "\u001b[1;31mCommand: 'conda install -n base ipykernel --update-deps --force-reinstall'"
     ]
    }
   ],
   "source": [
    "df.columns"
   ]
  },
  {
   "cell_type": "code",
   "execution_count": null,
   "metadata": {},
   "outputs": [
    {
     "ename": "",
     "evalue": "",
     "output_type": "error",
     "traceback": [
      "\u001b[1;31mRunning cells with 'base' requires ipykernel package.\n",
      "\u001b[1;31mRun the following command to install 'ipykernel' into the Python environment. \n",
      "\u001b[1;31mCommand: 'conda install -n base ipykernel --update-deps --force-reinstall'"
     ]
    }
   ],
   "source": [
    "df.info()"
   ]
  },
  {
   "cell_type": "code",
   "execution_count": null,
   "metadata": {},
   "outputs": [
    {
     "ename": "",
     "evalue": "",
     "output_type": "error",
     "traceback": [
      "\u001b[1;31mRunning cells with 'base' requires ipykernel package.\n",
      "\u001b[1;31mRun the following command to install 'ipykernel' into the Python environment. \n",
      "\u001b[1;31mCommand: 'conda install -n base ipykernel --update-deps --force-reinstall'"
     ]
    }
   ],
   "source": [
    "# Definimos las distintas *queries* que crearán nuestras tablas. \n",
    "# Tabla ataques\n",
    "\n",
    "tabla_ataques = '''\n",
    "CREATE TABLE IF NOT EXISTS 'tiburones'.'ataques' (\n",
    "  'idataque' INT NOT NULL AUTO_INCREMENT,\n",
    "  'YEAR' INT NOT NULL,\n",
    "  'TYPE' VARCHAR (100) NOT NULL,\n",
    "  'COUNTRY' VARCHAR (100) NOT NULL,\n",
    "  'AREA' VARCHAR (100) NOT NULL,\n",
    "  'LOCATION' VARCHAR (100) NOT NULL,\n",
    "  'ACTIVITY' VARCHAR (100) NOT NULL,\n",
    "  'NAME' VARCHAR (100) NOT NULL,\n",
    "  'AGE' VARCHAR (100) NOT NULL,\n",
    "  'TIME' VARCHAR (100) NOT NULL,\n",
    "  'SPECIES_' VARCHAR (100) NOT NULL,\n",
    "  'INJURY'  VARCHAR (100) NOT NULL,\n",
    "  'FECHA_LIMPIA' VARCHAR (100) NOT NULL,\n",
    "  'FATAL' VARCHAR (100) NOT NULL,\n",
    "  'SEX' VARCHAR (100) NOT NULL,\n",
    "  'PAÍS' VARCHAR (100) NOT NULL,\n",
    "  PRIMARY KEY ('idataque'))\n",
    "ENGINE = InnoDB;\n",
    "'''\n",
    "\n",
    "\n"
   ]
  },
  {
   "cell_type": "code",
   "execution_count": null,
   "metadata": {},
   "outputs": [
    {
     "ename": "",
     "evalue": "",
     "output_type": "error",
     "traceback": [
      "\u001b[1;31mRunning cells with 'base' requires ipykernel package.\n",
      "\u001b[1;31mRun the following command to install 'ipykernel' into the Python environment. \n",
      "\u001b[1;31mCommand: 'conda install -n base ipykernel --update-deps --force-reinstall'"
     ]
    }
   ],
   "source": [
    "# Tabla clima\n",
    "\n",
    "tabla_clima = \"\"\"\n",
    "CREATE TABLE IF NOT EXISTS 'tiburones'.'clima' (\n",
    "  'idclima' INT NOT NULL AUTO_INCREMENT',\n",
    "  'rh_950mb' DECIMAL NOT NULL,        \n",
    "  'rh_900mb' DECIMAL NOT NULL,          \n",
    "  'rh_850mb' DECIMAL NOT NULL,          \n",
    "  'rh_800mb' DECIMAL NOT NULL,         \n",
    "  'rh_750mb' DECIMAL NOT NULL,        \n",
    "  'rh_700mb ' DECIMAL NOT NULL,         \n",
    "  'rh_650mb' DECIMAL NOT NULL,         \n",
    "  'rh_600mb' DECIMAL NOT NULL,          \n",
    "  'rh_550mb' DECIMAL NOT NULL,       \n",
    "  'rh_500mb' DECIMAL NOT NULL,         \n",
    "  'rh_450mb' DECIMAL NOT NULL,          \n",
    "  'rh_400mb' DECIMAL NOT NULL,          \n",
    "  'rh_350mb ' DECIMAL NOT NULL,         \n",
    "  'rh_300mb' DECIMAL NOT NULL,          \n",
    "  'rh_250mb' DECIMAL NOT NULL,          \n",
    "  'rh_200mb' DECIMAL NOT NULL,          \n",
    "  'wind_950mb' DECIMAL NOT NULL,       \n",
    "  'wind_900mb' DECIMAL NOT NULL,       \n",
    "  'wind_850mb' DECIMAL NOT NULL,        \n",
    "  'wind_800mb' DECIMAL NOT NULL,        \n",
    "  'wind_750mb' DECIMAL NOT NULL,        \n",
    "  'wind_700mb' DECIMAL NOT NULL,       \n",
    "  'wind_650mb' DECIMAL NOT NULL,        \n",
    "  'wind_600mb' DECIMAL NOT NULL,        \n",
    "  'wind_550mb' DECIMAL NOT NULL,       \n",
    "  'wind_500mb' DECIMAL NOT NULL,       \n",
    "  'wind_450mb' DECIMAL NOT NULL,       \n",
    "  'wind_400mb' DECIMAL NOT NULL,       \n",
    "  'wind_350mb' DECIMAL NOT NULL,       \n",
    "  'wind_300mb' DECIMAL NOT NULL,       \n",
    "  'wind_250mb' DECIMAL NOT NULL,       \n",
    "  'wind_200mb' DECIMAL NOT NULL,       \n",
    "  'index' DECIMAL NOT NULL,            \n",
    "  'timepoint' DECIMAL NOT NULL,         \n",
    "  'cloudcover' DECIMAL NOT NULL,         \n",
    "  'highcloud' DECIMAL NOT NULL,          \n",
    "  'midcloud' DECIMAL NOT NULL,         \n",
    "  'lowcloud' DECIMAL NOT NULL,          \n",
    "  'temp2m' DECIMAL NOT NULL,            \n",
    "  'lifted_index' DECIMAL NOT NULL,      \n",
    "  'rh2m' DECIMAL NOT NULL,               \n",
    "  'msl_pressure' DECIMAL NOT NULL,       \n",
    "  'prec_amount' DECIMAL NOT NULL,       \n",
    "  'snow_depth' DECIMAL NOT NULL,        \n",
    "  'wind10m.direction' DECIMAL NOT NULL, \n",
    "  'wind10m.speed' DECIMAL NOT NULL,\n",
    "  PRIMARY KEY ('idclima'))\n",
    "ENGINE = InnoDB;\"\"\"\n",
    "      "
   ]
  },
  {
   "cell_type": "code",
   "execution_count": null,
   "metadata": {},
   "outputs": [
    {
     "ename": "",
     "evalue": "",
     "output_type": "error",
     "traceback": [
      "\u001b[1;31mRunning cells with 'base' requires ipykernel package.\n",
      "\u001b[1;31mRun the following command to install 'ipykernel' into the Python environment. \n",
      "\u001b[1;31mCommand: 'conda install -n base ipykernel --update-deps --force-reinstall'"
     ]
    }
   ],
   "source": [
    "# Llamamos a la función para crear cada una de las tablas de nuestra BBDD.\n",
    "\n",
    "crear_insertar_tabla('tiburones', 'Marinadalab', tabla_ataques)  \n"
   ]
  },
  {
   "cell_type": "code",
   "execution_count": null,
   "metadata": {},
   "outputs": [
    {
     "ename": "",
     "evalue": "",
     "output_type": "error",
     "traceback": [
      "\u001b[1;31mRunning cells with 'base' requires ipykernel package.\n",
      "\u001b[1;31mRun the following command to install 'ipykernel' into the Python environment. \n",
      "\u001b[1;31mCommand: 'conda install -n base ipykernel --update-deps --force-reinstall'"
     ]
    }
   ],
   "source": [
    "crear_insertar_tabla('tiburones', 'Marinadalab', tabla_clima)  \n"
   ]
  },
  {
   "attachments": {},
   "cell_type": "markdown",
   "metadata": {},
   "source": [
    "- INSERCIÓN DATOS"
   ]
  },
  {
   "cell_type": "code",
   "execution_count": null,
   "metadata": {},
   "outputs": [
    {
     "ename": "",
     "evalue": "",
     "output_type": "error",
     "traceback": [
      "\u001b[1;31mRunning cells with 'base' requires ipykernel package.\n",
      "\u001b[1;31mRun the following command to install 'ipykernel' into the Python environment. \n",
      "\u001b[1;31mCommand: 'conda install -n base ipykernel --update-deps --force-reinstall'"
     ]
    }
   ],
   "source": [
    "\n",
    "for indice, fila in df.iterrows(): \n",
    "        query_ataques = f\"\"\"\n",
    "            INSERT INTO ataques ('YEAR','TYPE','COUNTRY','AREA','LOCATION','ACTIVITY','NAME','AGE','TIME',\n",
    "            'SPECIES_' ,'INJURY' , 'FECHA_LIMPIA' , 'FATAL' , 'SEX','PAÍS' \n",
    "            VALUES (\"{fila['YEAR']}\", \"{fila['TYPE']}\",\"{fila['COUNTRY']}\",\"{fila['AREA']}\",\"{fila['LOCATION']}\",\n",
    "            \"{fila['ACTIVITY']}\",\"{fila['NAME']}\",\"{fila['AGE']}\",\"{fila['TIME']}\",\"{fila['SPECIES_']}\",\"{fila['INJURY']}\",\n",
    "            \"{fila['FECHA_LIMPIA']}\",\"{fila['FATAL']}\",\"{fila['SEX']}\",\"{fila['PAÍS']}\");\n",
    "            \"\"\"\n",
    "    # una vez definida la query llamamos a la función que nos inserta los datos. \n",
    "crear_insertar_tabla(\"tiburones\", \"Marinadalab\", query_ataques)"
   ]
  },
  {
   "cell_type": "code",
   "execution_count": null,
   "metadata": {},
   "outputs": [
    {
     "ename": "",
     "evalue": "",
     "output_type": "error",
     "traceback": [
      "\u001b[1;31mRunning cells with 'base' requires ipykernel package.\n",
      "\u001b[1;31mRun the following command to install 'ipykernel' into the Python environment. \n",
      "\u001b[1;31mCommand: 'conda install -n base ipykernel --update-deps --force-reinstall'"
     ]
    }
   ],
   "source": [
    "for indice, fila in df.iterrows(): \n",
    "        query_clima = f\"\"\"\n",
    "            INSERT INTO ataques ( \n",
    "    'rh_950mb'DECIMAL NOT NULL,\n",
    "    'rh_900mb' DECIMAL NOT NULL,\n",
    "    'rh_850mb' DECIMAL NOT NULL,         \n",
    "  'rh_800mb' DECIMAL NOT NULL,         \n",
    "  'rh_750mb' DECIMAL NOT NULL,        \n",
    "  'rh_700mb ' DECIMAL NOT NULL,         \n",
    "  'rh_650mb' DECIMAL NOT NULL,         \n",
    "  'rh_600mb' DECIMAL NOT NULL,          \n",
    "  'rh_550mb' DECIMAL NOT NULL,       \n",
    "  'rh_500mb' DECIMAL NOT NULL,         \n",
    "  'rh_450mb' DECIMAL NOT NULL,          \n",
    "  'rh_400mb' DECIMAL NOT NULL,          \n",
    "  'rh_350mb ' DECIMAL NOT NULL,         \n",
    "  'rh_300mb' DECIMAL NOT NULL,          \n",
    "  'rh_250mb' DECIMAL NOT NULL,          \n",
    "  'rh_200mb' DECIMAL NOT NULL,          \n",
    "  'wind_950mb' DECIMAL NOT NULL,       \n",
    "  'wind_900mb' DECIMAL NOT NULL,       \n",
    "  'wind_850mb' DECIMAL NOT NULL,        \n",
    "  'wind_800mb' DECIMAL NOT NULL,        \n",
    "  'wind_750mb' DECIMAL NOT NULL,        \n",
    "  'wind_700mb' DECIMAL NOT NULL,       \n",
    "  'wind_650mb' DECIMAL NOT NULL,        \n",
    "  'wind_600mb' DECIMAL NOT NULL,        \n",
    "  'wind_550mb' DECIMAL NOT NULL,       \n",
    "  'wind_500mb' DECIMAL NOT NULL,       \n",
    "  'wind_450mb' DECIMAL NOT NULL,       \n",
    "  'wind_400mb' DECIMAL NOT NULL,       \n",
    "  'wind_350mb' DECIMAL NOT NULL,       \n",
    "  'wind_300mb' DECIMAL NOT NULL,       \n",
    "  'wind_250mb' DECIMAL NOT NULL,       \n",
    "  'wind_200mb' DECIMAL NOT NULL,       \n",
    "  'index' DECIMAL NOT NULL,            \n",
    "  'timepoint' DECIMAL NOT NULL,         \n",
    "  'cloudcover' DECIMAL NOT NULL,         \n",
    "  'highcloud' DECIMAL NOT NULL,          \n",
    "  'midcloud' DECIMAL NOT NULL,         \n",
    "  'lowcloud' DECIMAL NOT NULL,          \n",
    "  'temp2m' DECIMAL NOT NULL,            \n",
    "  'lifted_index' DECIMAL NOT NULL,      \n",
    "  'rh2m' DECIMAL NOT NULL,               \n",
    "  'msl_pressure' DECIMAL NOT NULL,       \n",
    "  'prec_amount' DECIMAL NOT NULL,       \n",
    "  'snow_depth' DECIMAL NOT NULL,        \n",
    "  'wind10m.direction' DECIMAL NOT NULL, \n",
    "  'wind10m.speed' DECIMAL NOT NULL,\n",
    "                \n",
    "                \n",
    "                \n",
    "                \n",
    "                \n",
    "                \n",
    "                \n",
    "                \n",
    "                \n",
    "                \n",
    "                \n",
    "                \n",
    "                \n",
    "                \n",
    "            VALUES ( \"{fila[\"YEAR\"]}\", \"{fila['TYPE']},\"{fila['COUNTRY']},\"{fila['AREA']},\"{fila['LOCATION']},\n",
    "            \"{fila['ACTIVITY']},\"{fila['NAME']},\"{fila['AGE']},\"{fila['TIME']},\"{fila['SPECIES_']},\"{fila['INJUTY']},\n",
    "            \"{fila['FECHA_LIMPIA']},\"{fila['FATAL']}\",\"{fila['SEX']}\",\"{fila['PAÍS']}\");\n",
    "            \"\"\"\n",
    "    # una vez definida la query llamamos a la función que nos inserta los datos. \n",
    "crear_insertar_tabla(\"clima\", \"admin\", query_tiburones)"
   ]
  }
 ],
 "metadata": {
  "kernelspec": {
   "display_name": "base",
   "language": "python",
   "name": "python3"
  },
  "language_info": {
   "codemirror_mode": {
    "name": "ipython",
    "version": 3
   },
   "file_extension": ".py",
   "mimetype": "text/x-python",
   "name": "python",
   "nbconvert_exporter": "python",
   "pygments_lexer": "ipython3",
   "version": "3.9.7 (default, Sep 16 2021, 13:09:58) \n[GCC 7.5.0]"
  },
  "orig_nbformat": 4,
  "vscode": {
   "interpreter": {
    "hash": "8a5edab282632443219e051e4ade2d1d5bbc671c781051bf1437897cbdfea0f1"
   }
  }
 },
 "nbformat": 4,
 "nbformat_minor": 2
}

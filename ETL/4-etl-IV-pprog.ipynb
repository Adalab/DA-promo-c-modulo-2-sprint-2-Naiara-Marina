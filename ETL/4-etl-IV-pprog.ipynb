{
 "cells": [
  {
   "attachments": {},
   "cell_type": "markdown",
   "metadata": {},
   "source": [
    "Pair Programming ETL IV Carga I"
   ]
  },
  {
   "attachments": {},
   "cell_type": "markdown",
   "metadata": {},
   "source": [
    "Es el momento de meter todos nuestros datos en SQL 💪🏽!!! En este ejercicio nos crearemos dos tablas en una BBDD creada por nosotras. Una de las tablas contendrá la información que obtuvimos de los ejercicios de pair programming de Limpieza, es decir, el data set de ataques de tiburones limpito. La segunda tabla tendrá la información obtenida en el ejercicio de pair de ETL 1.\n",
    "📌 Nota Todo lo tendremos que hacer desde jupyter notebook\n",
    "  1. Cread la BBDD con el nombre de tiburones.\n",
    "  2. Cread las tablas de la BBDD:\n",
    "        - Tabla ataques\n",
    "        - Tabla clima\n",
    "  3. BONUS Insertar los datos en las tablas.\n",
    "📌 Nota Esta parte del pair es optativa y no será considerada para la evaluación\n",
    "🚨 En caso de que no tengáis los datos unidos de la sesión anterior, tenéis un csv datos_union_clima_ataques con todos los datos que necesitareis para este ejercicio"
   ]
  },
  {
   "cell_type": "code",
   "execution_count": 31,
   "metadata": {},
   "outputs": [],
   "source": [
    "import pandas as pd\n",
    "import numpy as np\n",
    "import requests\n",
    "import mysql.connector"
   ]
  },
  {
   "cell_type": "code",
   "execution_count": 32,
   "metadata": {},
   "outputs": [
    {
     "data": {
      "text/html": [
       "<div>\n",
       "<style scoped>\n",
       "    .dataframe tbody tr th:only-of-type {\n",
       "        vertical-align: middle;\n",
       "    }\n",
       "\n",
       "    .dataframe tbody tr th {\n",
       "        vertical-align: top;\n",
       "    }\n",
       "\n",
       "    .dataframe thead th {\n",
       "        text-align: right;\n",
       "    }\n",
       "</style>\n",
       "<table border=\"1\" class=\"dataframe\">\n",
       "  <thead>\n",
       "    <tr style=\"text-align: right;\">\n",
       "      <th></th>\n",
       "      <th>case_number</th>\n",
       "      <th>year</th>\n",
       "      <th>type</th>\n",
       "      <th>country</th>\n",
       "      <th>area</th>\n",
       "      <th>location</th>\n",
       "      <th>activity</th>\n",
       "      <th>name</th>\n",
       "      <th>age</th>\n",
       "      <th>time</th>\n",
       "      <th>...</th>\n",
       "      <th>midcloud</th>\n",
       "      <th>lowcloud</th>\n",
       "      <th>temp2m</th>\n",
       "      <th>lifted_index</th>\n",
       "      <th>rh2m</th>\n",
       "      <th>msl_pressure</th>\n",
       "      <th>prec_amount</th>\n",
       "      <th>snow_depth</th>\n",
       "      <th>wind10m.direction</th>\n",
       "      <th>wind10m.speed</th>\n",
       "    </tr>\n",
       "  </thead>\n",
       "  <tbody>\n",
       "    <tr>\n",
       "      <th>0</th>\n",
       "      <td>2018.06.25</td>\n",
       "      <td>2018.0</td>\n",
       "      <td>Boating</td>\n",
       "      <td>USA</td>\n",
       "      <td>California</td>\n",
       "      <td>Oceanside, San Diego County</td>\n",
       "      <td>Paddling</td>\n",
       "      <td>Julie Wolfe</td>\n",
       "      <td>57</td>\n",
       "      <td>18h00</td>\n",
       "      <td>...</td>\n",
       "      <td>-9999.0</td>\n",
       "      <td>-9999.0</td>\n",
       "      <td>11.421875</td>\n",
       "      <td>9.6875</td>\n",
       "      <td>4.25</td>\n",
       "      <td>1013.703125</td>\n",
       "      <td>1.234375</td>\n",
       "      <td>0.0</td>\n",
       "      <td>192.109375</td>\n",
       "      <td>2.921875</td>\n",
       "    </tr>\n",
       "    <tr>\n",
       "      <th>1</th>\n",
       "      <td>2018.06.18</td>\n",
       "      <td>2018.0</td>\n",
       "      <td>Unprovoked</td>\n",
       "      <td>USA</td>\n",
       "      <td>Georgia</td>\n",
       "      <td>St. Simon Island, Glynn County</td>\n",
       "      <td>Standing</td>\n",
       "      <td>AdysonÂ McNeely</td>\n",
       "      <td>11</td>\n",
       "      <td>14h00  -15h00</td>\n",
       "      <td>...</td>\n",
       "      <td>-9999.0</td>\n",
       "      <td>-9999.0</td>\n",
       "      <td>11.421875</td>\n",
       "      <td>9.6875</td>\n",
       "      <td>4.25</td>\n",
       "      <td>1013.703125</td>\n",
       "      <td>1.234375</td>\n",
       "      <td>0.0</td>\n",
       "      <td>192.109375</td>\n",
       "      <td>2.921875</td>\n",
       "    </tr>\n",
       "  </tbody>\n",
       "</table>\n",
       "<p>2 rows × 62 columns</p>\n",
       "</div>"
      ],
      "text/plain": [
       "  case_number    year        type country        area  \\\n",
       "0  2018.06.25  2018.0     Boating     USA  California   \n",
       "1  2018.06.18  2018.0  Unprovoked     USA     Georgia   \n",
       "\n",
       "                         location  activity              name age  \\\n",
       "0     Oceanside, San Diego County  Paddling       Julie Wolfe  57   \n",
       "1  St. Simon Island, Glynn County  Standing  AdysonÂ McNeely   11   \n",
       "\n",
       "            time  ... midcloud lowcloud     temp2m lifted_index  rh2m  \\\n",
       "0          18h00  ...  -9999.0  -9999.0  11.421875       9.6875  4.25   \n",
       "1  14h00  -15h00  ...  -9999.0  -9999.0  11.421875       9.6875  4.25   \n",
       "\n",
       "  msl_pressure  prec_amount  snow_depth  wind10m.direction  wind10m.speed  \n",
       "0  1013.703125     1.234375         0.0         192.109375       2.921875  \n",
       "1  1013.703125     1.234375         0.0         192.109375       2.921875  \n",
       "\n",
       "[2 rows x 62 columns]"
      ]
     },
     "execution_count": 32,
     "metadata": {},
     "output_type": "execute_result"
    }
   ],
   "source": [
    "df = pd.read_csv('/mnt/d/Adalab/ejercicios-de-adalab/modulo-2/8-ETL-mod-2/files/datos_union_clima_ataques.csv',index_col = 0)\n",
    "df.head(2)"
   ]
  },
  {
   "attachments": {},
   "cell_type": "markdown",
   "metadata": {},
   "source": [
    "- 1-CREACIÓN BBDD"
   ]
  },
  {
   "cell_type": "code",
   "execution_count": 48,
   "metadata": {},
   "outputs": [],
   "source": [
    "def crear_bbdd(nombre_bbdd):\n",
    "    \n",
    "    mydb = mysql.connector.connect(\n",
    "      host=\"localhost\",\n",
    "      user=\"root\",\n",
    "      password=\"Marinadalab\" # aquí tendréis que poner vuestra contraseña de MySQL\n",
    "    )\n",
    "    print(\"Conexión realizada con éxito\")\n",
    "    \n",
    "    mycursor = mydb.cursor()\n",
    "\n",
    "    try:\n",
    "        mycursor.execute(f\"CREATE DATABASE IF NOT EXISTS {nombre_bbdd};\")\n",
    "        print(mycursor)\n",
    "    except mysql.connector.Error as err:\n",
    "        print(err)\n",
    "        print(\"Error Code:\", err.errno)\n",
    "        print(\"SQLSTATE\", err.sqlstate)\n",
    "        print(\"Message\", err.msg)"
   ]
  },
  {
   "cell_type": "code",
   "execution_count": 34,
   "metadata": {},
   "outputs": [
    {
     "name": "stdout",
     "output_type": "stream",
     "text": [
      "Conexión realizada con éxito\n",
      "CMySQLCursor: CREATE DATABASE IF NOT EXISTS tiburones;\n"
     ]
    }
   ],
   "source": [
    "mydb = crear_bbdd('tiburones')"
   ]
  },
  {
   "attachments": {},
   "cell_type": "markdown",
   "metadata": {},
   "source": [
    "- 2-CREACIÓN TABLAS"
   ]
  },
  {
   "cell_type": "code",
   "execution_count": 49,
   "metadata": {},
   "outputs": [],
   "source": [
    "# primero crearnos una función que valga para crear o insertar datos de cq tabla, con 3 parametros: \n",
    "# Nombre BBDD           # Contraseña servidor de SQL    # Query a insertar\n",
    "                                                                                            \n",
    "\n",
    "def crear_insertar_tabla(nombre_bbdd, contraseña, query):\n",
    "    \n",
    "    # nos conectamsos con el servidor usando el conector de sql\n",
    "    cnx = mysql.connector.connect(user='root', password=f\"{contraseña}\",\n",
    "                                     host='127.0.0.1', database=f\"{nombre_bbdd}\")\n",
    "    # iniciamos el cursor\n",
    "    mycursor = cnx.cursor()\n",
    "    \n",
    "    # intentamos hacer la query\n",
    "    try: \n",
    "        mycursor.execute(query)\n",
    "        cnx.commit() \n",
    "    # en caso de que podamos ejecutar la query devuelvenos un error para saber en que nos estamos equivocando\n",
    "    except mysql.connector.Error as err:\n",
    "        print(err)\n",
    "        print(\"Error Code:\", err.errno)\n",
    "        print(\"SQLSTATE\", err.sqlstate)\n",
    "        print(\"Message\", err.msg)"
   ]
  },
  {
   "cell_type": "code",
   "execution_count": 36,
   "metadata": {},
   "outputs": [
    {
     "data": {
      "text/plain": [
       "Index(['case_number', 'year', 'type', 'country', 'area', 'location',\n",
       "       'activity', 'name', 'age', 'time', 'species_', 'injury', 'fecha_limpia',\n",
       "       'fatal', 'sex', 'pais', 'rh_950mb', 'rh_900mb', 'rh_850mb', 'rh_800mb',\n",
       "       'rh_750mb', 'rh_700mb', 'rh_650mb', 'rh_600mb', 'rh_550mb', 'rh_500mb',\n",
       "       'rh_450mb', 'rh_400mb', 'rh_350mb', 'rh_300mb', 'rh_250mb', 'rh_200mb',\n",
       "       'wind_950mb', 'wind_900mb', 'wind_850mb', 'wind_800mb', 'wind_750mb',\n",
       "       'wind_700mb', 'wind_650mb', 'wind_600mb', 'wind_550mb', 'wind_500mb',\n",
       "       'wind_450mb', 'wind_400mb', 'wind_350mb', 'wind_300mb', 'wind_250mb',\n",
       "       'wind_200mb', 'index', 'timepoint', 'cloudcover', 'highcloud',\n",
       "       'midcloud', 'lowcloud', 'temp2m', 'lifted_index', 'rh2m',\n",
       "       'msl_pressure', 'prec_amount', 'snow_depth', 'wind10m.direction',\n",
       "       'wind10m.speed'],\n",
       "      dtype='object')"
      ]
     },
     "execution_count": 36,
     "metadata": {},
     "output_type": "execute_result"
    }
   ],
   "source": [
    "df.columns"
   ]
  },
  {
   "cell_type": "code",
   "execution_count": 37,
   "metadata": {},
   "outputs": [
    {
     "name": "stdout",
     "output_type": "stream",
     "text": [
      "<class 'pandas.core.frame.DataFrame'>\n",
      "Int64Index: 4395 entries, 0 to 4394\n",
      "Data columns (total 62 columns):\n",
      " #   Column             Non-Null Count  Dtype  \n",
      "---  ------             --------------  -----  \n",
      " 0   case_number        4394 non-null   object \n",
      " 1   year               4395 non-null   float64\n",
      " 2   type               4394 non-null   object \n",
      " 3   country            4395 non-null   object \n",
      " 4   area               4363 non-null   object \n",
      " 5   location           4276 non-null   object \n",
      " 6   activity           4066 non-null   object \n",
      " 7   name               4325 non-null   object \n",
      " 8   age                2681 non-null   object \n",
      " 9   time               2395 non-null   object \n",
      " 10  species_           2647 non-null   object \n",
      " 11  injury             4381 non-null   object \n",
      " 12  fecha_limpia       4148 non-null   object \n",
      " 13  fatal              3975 non-null   object \n",
      " 14  sex                4059 non-null   object \n",
      " 15  pais               4395 non-null   object \n",
      " 16  rh_950mb           4395 non-null   float64\n",
      " 17  rh_900mb           4395 non-null   float64\n",
      " 18  rh_850mb           4395 non-null   float64\n",
      " 19  rh_800mb           4395 non-null   float64\n",
      " 20  rh_750mb           4395 non-null   float64\n",
      " 21  rh_700mb           4395 non-null   float64\n",
      " 22  rh_650mb           4395 non-null   float64\n",
      " 23  rh_600mb           4395 non-null   float64\n",
      " 24  rh_550mb           4395 non-null   float64\n",
      " 25  rh_500mb           4395 non-null   float64\n",
      " 26  rh_450mb           4395 non-null   float64\n",
      " 27  rh_400mb           4395 non-null   float64\n",
      " 28  rh_350mb           4395 non-null   float64\n",
      " 29  rh_300mb           4395 non-null   float64\n",
      " 30  rh_250mb           4395 non-null   float64\n",
      " 31  rh_200mb           4395 non-null   float64\n",
      " 32  wind_950mb         4395 non-null   float64\n",
      " 33  wind_900mb         4395 non-null   float64\n",
      " 34  wind_850mb         4395 non-null   float64\n",
      " 35  wind_800mb         4395 non-null   float64\n",
      " 36  wind_750mb         4395 non-null   float64\n",
      " 37  wind_700mb         4395 non-null   float64\n",
      " 38  wind_650mb         4395 non-null   float64\n",
      " 39  wind_600mb         4395 non-null   float64\n",
      " 40  wind_550mb         4395 non-null   float64\n",
      " 41  wind_500mb         4395 non-null   float64\n",
      " 42  wind_450mb         4395 non-null   float64\n",
      " 43  wind_400mb         4395 non-null   float64\n",
      " 44  wind_350mb         4395 non-null   float64\n",
      " 45  wind_300mb         4395 non-null   float64\n",
      " 46  wind_250mb         4395 non-null   float64\n",
      " 47  wind_200mb         4395 non-null   float64\n",
      " 48  index              4395 non-null   float64\n",
      " 49  timepoint          4395 non-null   float64\n",
      " 50  cloudcover         4395 non-null   float64\n",
      " 51  highcloud          4395 non-null   float64\n",
      " 52  midcloud           4395 non-null   float64\n",
      " 53  lowcloud           4395 non-null   float64\n",
      " 54  temp2m             4395 non-null   float64\n",
      " 55  lifted_index       4395 non-null   float64\n",
      " 56  rh2m               4395 non-null   float64\n",
      " 57  msl_pressure       4395 non-null   float64\n",
      " 58  prec_amount        4395 non-null   float64\n",
      " 59  snow_depth         4395 non-null   float64\n",
      " 60  wind10m.direction  4395 non-null   float64\n",
      " 61  wind10m.speed      4395 non-null   float64\n",
      "dtypes: float64(47), object(15)\n",
      "memory usage: 2.1+ MB\n"
     ]
    }
   ],
   "source": [
    "df.info()"
   ]
  },
  {
   "cell_type": "code",
   "execution_count": 50,
   "metadata": {},
   "outputs": [],
   "source": [
    "# Definimos las distintas *queries* que crearán nuestras tablas. \n",
    "# Tabla ataques\n",
    "\n",
    "tabla_ataques = '''\n",
    "CREATE TABLE IF NOT EXISTS 'tiburones'.'ataques' (\n",
    "  'idataque' INT NOT NULL AUTO_INCREMENT,\n",
    "  'year' DECIMAL NOT NULL,\n",
    "  'type' VARCHAR (100) NOT NULL,\n",
    "  'country' VARCHAR (100) NOT NULL,\n",
    "  'area' VARCHAR (100) NOT NULL,\n",
    "  'location' VARCHAR (100) NOT NULL,\n",
    "  'activity' VARCHAR (100) NOT NULL,\n",
    "  'name' VARCHAR (100) NOT NULL,\n",
    "  'age' VARCHAR (100) NOT NULL,\n",
    "  'time' VARCHAR (100) NOT NULL,\n",
    "  'species_' VARCHAR (100) NOT NULL,\n",
    "  'injury'  VARCHAR (100) NOT NULL,\n",
    "  'fecha_limpia' VARCHAR (100) NOT NULL,\n",
    "  'fatal' VARCHAR (100) NOT NULL,\n",
    "  'sex' VARCHAR (100) NOT NULL,\n",
    "  'país' VARCHAR (100) NOT NULL,\n",
    "  PRIMARY KEY ('idataque'))\n",
    "ENGINE = InnoDB;\n",
    "'''\n",
    "\n",
    "\n"
   ]
  },
  {
   "cell_type": "code",
   "execution_count": 51,
   "metadata": {},
   "outputs": [],
   "source": [
    "# Tabla clima\n",
    "\n",
    "tabla_clima = \"\"\"\n",
    "CREATE TABLE IF NOT EXISTS 'tiburones.'clima' (\n",
    "  'idclima' INT NOT NULL,\n",
    "  'rh_950mb' DECIMAL NOT NULL,        \n",
    "  'rh_900mb' DECIMAL NOT NULL,          \n",
    "  'rh_850mb' DECIMAL NOT NULL,          \n",
    "  'rh_800mb' DECIMAL NOT NULL,         \n",
    "  'rh_750mb' DECIMAL NOT NULL,        \n",
    "  'rh_700mb 'DECIMAL NOT NULL,         \n",
    "  'rh_650mb' DECIMAL NOT NULL,         \n",
    "  'rh_600mb' DECIMAL NOT NULL,          \n",
    "  'rh_550mb' DECIMAL NOT NULL,       \n",
    "  'rh_500mb' DECIMAL NOT NULL,         \n",
    "  'rh_450mb' DECIMAL NOT NULL,          \n",
    "  'rh_400mb' DECIMAL NOT NULL,          \n",
    "  'rh_350mb' DECIMAL NOT NULL,         \n",
    "  'rh_300mb' DECIMAL NOT NULL,          \n",
    "  'rh_250mb' DECIMAL NOT NULL,          \n",
    "  'rh_200mb' DECIMAL NOT NULL,          \n",
    "  'wind_950mb' DECIMAL NOT NULL,       \n",
    "  'wind_900mb' DECIMAL NOT NULL,       \n",
    "  'wind_850mb' DECIMAL NOT NULL,        \n",
    "  'wind_800mb' DECIMAL NOT NULL,        \n",
    "  'wind_750mb' DECIMAL NOT NULL,        \n",
    "  'wind_700mb' DECIMAL NOT NULL,       \n",
    "  'wind_650mb' DECIMAL NOT NULL,        \n",
    "  'wind_600mb' DECIMAL NOT NULL,        \n",
    "  'wind_550mb' DECIMAL NOT NULL,       \n",
    "  'wind_500mb' DECIMAL NOT NULL,       \n",
    "  'wind_450mb' DECIMAL NOT NULL,       \n",
    "  'wind_400mb' DECIMAL NOT NULL,       \n",
    "  'wind_350mb' DECIMAL NOT NULL,       \n",
    "  'wind_300mb' DECIMAL NOT NULL,       \n",
    "  'wind_250mb' DECIMAL NOT NULL,       \n",
    "  'wind_200mb' DECIMAL NOT NULL,       \n",
    "  'index' DECIMAL NOT NULL,        \n",
    "  'timepoint' DECIMAL NOT NULL,         \n",
    "  'cloudcover' DECIMAL NOT NULL,         \n",
    "  'highcloud' DECIMAL NOT NULL,          \n",
    "  'midcloud' DECIMAL NOT NULL,         \n",
    "  'lowcloud' DECIMAL NOT NULL,          \n",
    "  'temp2m' DECIMAL NOT NULL,            \n",
    "  'lifted_index' DECIMAL NOT NULL,      \n",
    "  'rh2m' DECIMAL NOT NULL,               \n",
    "  'msl_pressure' DECIMAL NOT NULL,       \n",
    "  'prec_amount' DECIMAL NOT NULL,       \n",
    "  'snow_depth'DECIMAL NOT NULL,        \n",
    "  'wind10m.direction'DECIMAL NOT NULL, \n",
    "  'wind10m.speed' DECIMAL NOT NULL,\n",
    "  PRIMARY KEY ('idclima'))\n",
    "ENGINE = InnoDB;\"\"\"\n",
    "      "
   ]
  },
  {
   "cell_type": "code",
   "execution_count": 53,
   "metadata": {},
   "outputs": [
    {
     "name": "stdout",
     "output_type": "stream",
     "text": [
      "1064 (42000): You have an error in your SQL syntax; check the manual that corresponds to your MySQL server version for the right syntax to use near ''tiburones'.'ataques' (\n",
      "  'idataque' INT NOT NULL AUTO_INCREMENT,\n",
      "  'year' DECIM' at line 1\n",
      "Error Code: 1064\n",
      "SQLSTATE 42000\n",
      "Message You have an error in your SQL syntax; check the manual that corresponds to your MySQL server version for the right syntax to use near ''tiburones'.'ataques' (\n",
      "  'idataque' INT NOT NULL AUTO_INCREMENT,\n",
      "  'year' DECIM' at line 1\n"
     ]
    }
   ],
   "source": [
    "# Llamamos a la función para crear cada una de las tablas de nuestra BBDD.\n",
    "\n",
    "crear_insertar_tabla('tiburones', 'Marinadalab', tabla_ataques)  \n"
   ]
  },
  {
   "cell_type": "code",
   "execution_count": 54,
   "metadata": {},
   "outputs": [
    {
     "name": "stdout",
     "output_type": "stream",
     "text": [
      "1064 (42000): You have an error in your SQL syntax; check the manual that corresponds to your MySQL server version for the right syntax to use near ''tiburones.'clima' (\n",
      "  'idclima' INT NOT NULL,\n",
      "  'rh_950mb' DECIMAL NOT NULL,   ' at line 1\n",
      "Error Code: 1064\n",
      "SQLSTATE 42000\n",
      "Message You have an error in your SQL syntax; check the manual that corresponds to your MySQL server version for the right syntax to use near ''tiburones.'clima' (\n",
      "  'idclima' INT NOT NULL,\n",
      "  'rh_950mb' DECIMAL NOT NULL,   ' at line 1\n"
     ]
    }
   ],
   "source": [
    "crear_insertar_tabla('tiburones', 'Marinadalab', tabla_clima)  \n"
   ]
  },
  {
   "attachments": {},
   "cell_type": "markdown",
   "metadata": {},
   "source": [
    "- 3-INSERCIÓN DATOS"
   ]
  },
  {
   "cell_type": "code",
   "execution_count": 55,
   "metadata": {},
   "outputs": [
    {
     "name": "stdout",
     "output_type": "stream",
     "text": [
      "1064 (42000): You have an error in your SQL syntax; check the manual that corresponds to your MySQL server version for the right syntax to use near 'VALUES (\"0.0\", \"Sea Disaster\",\"PAPUA NEW GUINEA\",\"Madang Province\",\"Off Lae\",\n",
      "  ' at line 3\n",
      "Error Code: 1064\n",
      "SQLSTATE 42000\n",
      "Message You have an error in your SQL syntax; check the manual that corresponds to your MySQL server version for the right syntax to use near 'VALUES (\"0.0\", \"Sea Disaster\",\"PAPUA NEW GUINEA\",\"Madang Province\",\"Off Lae\",\n",
      "  ' at line 3\n"
     ]
    }
   ],
   "source": [
    "\n",
    "for indice, fila in df.iterrows(): \n",
    "        query_ataques = f\"\"\"\n",
    "            INSERT INTO ataques (year, type, country, area, location, activity, name, age,time,\n",
    "            species_ , injury , fecha_limpia , fatal , sex, país \n",
    "            VALUES (\"{fila['year']}\", \"{fila['type']}\",\"{fila['country']}\",\"{fila['area']}\",\"{fila['location']}\",\n",
    "            \"{fila['activity']}\",\"{fila['name']}\",\"{fila['age']}\",\"{fila['time']}\",\"{fila['species_']}\",\"{fila['injury']}\",\n",
    "            \"{fila['fecha_limpia']}\",\"{fila['fatal']}\",\"{fila['sex']}\",\"{fila['pais']}\");\n",
    "            \"\"\"\n",
    "    # una vez definida la query llamamos a la función que nos inserta los datos. \n",
    "crear_insertar_tabla(\"tiburones\", \"Marinadalab\", query_ataques)"
   ]
  },
  {
   "cell_type": "code",
   "execution_count": 57,
   "metadata": {},
   "outputs": [
    {
     "name": "stdout",
     "output_type": "stream",
     "text": [
      "1064 (42000): You have an error in your SQL syntax; check the manual that corresponds to your MySQL server version for the right syntax to use near 'index, timepoint, cloudcover, highcloud,\n",
      "            midcloud, lowcloud, temp2m,' at line 7\n",
      "Error Code: 1064\n",
      "SQLSTATE 42000\n",
      "Message You have an error in your SQL syntax; check the manual that corresponds to your MySQL server version for the right syntax to use near 'index, timepoint, cloudcover, highcloud,\n",
      "            midcloud, lowcloud, temp2m,' at line 7\n"
     ]
    }
   ],
   "source": [
    "for indice, fila in df.iterrows(): \n",
    "        query_clima = f\"\"\"\n",
    "            INSERT INTO ataques ( rh_950mb, rh_900mb, rh_850mb, rh_800mb,\n",
    "            rh_750mb, rh_700mb, rh_650mb, rh_600mb, rh_550mb, rh_500mb,\n",
    "            rh_450mb, rh_400mb, rh_350mb, rh_300mb, rh_250mb, rh_200mb,\n",
    "            wind_950mb, wind_900mb, wind_850mb, wind_800mb, wind_750mb,\n",
    "            wind_700mb, wind_650mb, wind_600mb, wind_550mb, wind_500mb,\n",
    "            wind_450mb, wind_400mb, wind_350mb, wind_300mb, wind_250mb,\n",
    "            wind_200mb, index, timepoint, cloudcover, highcloud,\n",
    "            midcloud, lowcloud, temp2m, lifted_index, rh2m,\n",
    "            msl_pressure, prec_amount, snow_depth, wind10m.direction, wind10m.speed\n",
    "                    \n",
    "            VALUES ( \"{fila[\"rh_950mb\"]}\", \"{fila['rh_900mb']},\"{fila['rh_850mb']},\"{fila['rh_800mb']}\n",
    "            \"{fila['rh_750mb']},\"{fila['rh_700mb']},\"{fila['rh_650mb']},\"{fila['rh_600mb']},\n",
    "            \"{fila['rh_550mb']},\"{fila['rh_500mb']},\"{fila['rh_450mb']},\"{fila['rh_400mb']},\n",
    "            \"{fila['rh_350mb']},\"{fila['rh_300mb']}\",\"{fila['rh_250mb']}\",\"{fila['rh_200mb']}\")\n",
    "            \"{fila['wind_950mb']},\"{fila['rh_900mb']}\",\"{fila['rh_850mb']},\"{fila['rh_800mb']},\n",
    "            \"{fila['rh_750mb']},\"{fila['rh_700mb']},\"{fila['rh_650mb']},\"{fila['rh_600mb']},\n",
    "            \"{fila['rh_550mb']},\"{fila['rh_500mb']},\"{fila['rh_350mb']},\"{fila['rh_350mb']},\n",
    "            \"{fila['rh_300mb']},\"{fila['rh_250mb']},\"{fila['rh_200mb']},\"{fila['index']},\n",
    "            \"{fila['timepoint']}\",\"{fila['cloudcover']}\",\"{fila['highcloud']}\",\"{fila['cloudcover']}\",\n",
    "            \"{fila['midcloud']}\",\"{fila['lowcloud']}\",\"{fila['temp2m']}\",\"{fila['lifted_index']}\",\n",
    "            \"{fila['rh2m']}\",\"{fila['msl_pressure']}\",\"{fila['prec_amount']}\",\"{fila['snow_depth']}\",\n",
    "            \"{fila['wind10m.direction']}\",\"{fila['wind10m.speed']}\";\n",
    "            \"\"\"\n",
    "    # una vez definida la query llamamos a la función que nos inserta los datos. \n",
    "crear_insertar_tabla(\"tiburones\", \"Marinadalab\", query_clima)"
   ]
  }
 ],
 "metadata": {
  "kernelspec": {
   "display_name": "base",
   "language": "python",
   "name": "python3"
  },
  "language_info": {
   "codemirror_mode": {
    "name": "ipython",
    "version": 3
   },
   "file_extension": ".py",
   "mimetype": "text/x-python",
   "name": "python",
   "nbconvert_exporter": "python",
   "pygments_lexer": "ipython3",
   "version": "3.9.7"
  },
  "orig_nbformat": 4,
  "vscode": {
   "interpreter": {
    "hash": "67102f693e510b408920f064fed8f652c879a90e6c1ff13ccd6f48ea2114128c"
   }
  }
 },
 "nbformat": 4,
 "nbformat_minor": 2
}

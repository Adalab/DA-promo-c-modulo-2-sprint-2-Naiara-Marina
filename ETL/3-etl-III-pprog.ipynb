{
 "cells": [
  {
   "cell_type": "code",
   "execution_count": 2,
   "metadata": {},
   "outputs": [],
   "source": [
    "import pandas as pd\n",
    "import requests\n",
    "from datetime import datetime, timedelta"
   ]
  },
  {
   "cell_type": "code",
   "execution_count": 3,
   "metadata": {},
   "outputs": [],
   "source": [
    "df_attacks = pd.read_csv('/mnt/d/Adalab/ejercicios-de-adalab/modulo-2/8-ETL-mod-2/files/attacks_limpieza_completa.csv', index_col = 0)\n",
    "df_etl2 = pd.read_csv('/mnt/d/Adalab/ejercicios-de-adalab/modulo-2/8-ETL-mod-2/files/etl2.csv', index_col = 0)\n",
    "df_etl1 = pd.read_csv('/mnt/d/Adalab/ejercicios-de-adalab/modulo-2/8-ETL-mod-2/files/df_ETL1_clima.csv')\n"
   ]
  },
  {
   "cell_type": "code",
   "execution_count": 51,
   "metadata": {},
   "outputs": [],
   "source": [
    "class Extraccion: \n",
    "    \n",
    "    def __init__(self, lat, long, pais):\n",
    "        self.pais = pais\n",
    "        self.lat = lat\n",
    "        self.long = long\n",
    "        \n",
    "    def llamada_API(self, producto):\n",
    "        self.producto = producto\n",
    "          \n",
    "        url = f'http://www.7timer.info/bin/api.pl?lon=-{self.long}&lat={self.lat}&product=meteo&output=json'\n",
    "        response = requests.get(url=url)\n",
    "        codigo_estado = response.status_code\n",
    "        razon_estado = response.reason\n",
    "        if codigo_estado == 200:\n",
    "                print('La peticion se ha realizado correctamente, se ha devuelto el código de estado:',codigo_estado,\n",
    "                  'y como razón del código de estado: ',razon_estado)\n",
    "        elif codigo_estado == 402:\n",
    "            print('No se ha podido autorizar usario, se ha devuelto el código de estado:', codigo_estado,\n",
    "                  'y como razón del código de estado: ',razon_estado)\n",
    "        elif codigo_estado == 404:\n",
    "            print('Algo ha salido mal, el recurso no se ha encontrado,se ha devuelto el código de estado:',\n",
    "                  codigo_estado,' y como razón del código de estado: ',razon_estado)\n",
    "        else:\n",
    "            print('Algo inesperado ha ocurrido, se ha devuelto el código de estado:', codigo_estado,\n",
    "                  'y como razón del código de estado: ',razon_estado) \n",
    "        \n",
    "        df = pd.DataFrame.from_dict(pd.json_normalize(response.json()['dataseries']))\n",
    "        return df\n",
    "    \n",
    "    def limpiar_civil(self, df): \n",
    "\n",
    "        hoy = datetime.now()\n",
    "        hoy = datetime.strftime(hoy, '%Y-%m-%d')\n",
    "\n",
    "        # creamos la nueva columna\n",
    "        df[\"fecha\"] = hoy\n",
    "\n",
    "        # de nuevo usamos el self para crear las nuevas columnas en función de los parámetros pasados al definir \n",
    "        # la clase. Recordamos, el caminito de baldosas amarillas.\n",
    "        df[\"latitud\"] = self.lat\n",
    "        df[\"longitud\"] = self.lon\n",
    "        df[\"pais\"] = self.pais\n",
    "        return df\n",
    "\n",
    "    def limpiar_meteo(self, df):\n",
    "    \n",
    "        #seleccionamos solo las columnas que nos interesan\n",
    "        df = df[[\"timepoint\", \"cloudcover\", \"highcloud\"]]\n",
    "\n",
    "        # creamos la columna de fecha: \n",
    "        hoy = datetime.now()\n",
    "        hoy = datetime.strftime(hoy, '%Y-%m-%d')\n",
    "        df[\"fecha\"] = hoy\n",
    "\n",
    "\n",
    "        # insertamos las columnas de la localidad\n",
    "    \n",
    "        df[\"pais\"] = self.pais\n",
    "\n",
    "        return df\n",
    "    \n",
    "    def juntar_dfs(self, df_attacks, df_etl2): \n",
    "\n",
    "        df_hoy = pd.merge(df_attacks, df_etl2 , on=['fecha', \"timepoint\", \"pais\"], how = \"right\")\n",
    "        print(\"El df de hoy es \", df_hoy.columns)\n",
    "        print(\"-----------------------------------------\")\n",
    "        print(\"El df de completo es \", df_completo.columns)\n",
    "        # lo primero que hacemos es concatenar los dataframes con la información general. df_completo y df_civil\n",
    "        df_completo = pd.concat([df_completo, df_hoy], axis = 0)\n",
    "\n",
    "        \n",
    "        # guardamos los datos\n",
    "        df_completo.to_pickle('datos_actualizados_3.pkl')\n",
    "        df_completo.to_csv('datos_actualizados_3.csv')\n",
    "\n",
    "        return df_completo\n",
    "    \n",
    "    def chequear_datos(self, df): \n",
    "    \n",
    "        print(\"Las columnas son:\", \"\\n\")\n",
    "        print(list(df.columns))\n",
    "        print(\"-----------------------------------------\")\n",
    "\n",
    "        print(\"Los tipos de datos que tenemos son:\", \"\\n\")\n",
    "        print(df.dtypes)\n",
    "        print(\"-----------------------------------------\")\n",
    "\n",
    "        print(\"El porcentaje de nulos:\", \"\\n\")\n",
    "        print((df.isnull().sum() / df.shape[0]) *  100)\n",
    "\n",
    "    def limpiar_dataframe(self, df, lista_columnas = []): \n",
    "        \n",
    "        \n",
    "     #convertimos la fecha a datetime\n",
    "        df[\"fecha\"] = pd.to_datetime(df[\"fecha\"])\n",
    "\n",
    "        # reemplazamos los nulos de las columnas por la media\n",
    "         # lista de columnas en las que queremos reemplazar los nulos\n",
    "        # df[lista_columnas]=df[lista_columnas].fillna(df.mean())\n",
    "\n",
    "        \n",
    "        # renombrar columnas\n",
    "        \n",
    "        # df.rename(columns = {\"ciudad_x\": \"ciudad\"}, inplace = True)\n",
    "\n",
    "        # quitar % \n",
    "        df[\"rh2m\"] = df[\"rh2m\"].replace(r\"%\", \"\", regex = True)\n",
    "\n",
    "        # guardamos los datos una vez limpios\n",
    "        df.to_pickle('../files/datos_actualizados.pkl')\n",
    "        df.to_csv('../files/datos_actualizados.csv')\n",
    "\n",
    "        return df\n",
    "\n",
    "\n",
    "    \n"
   ]
  },
  {
   "cell_type": "code",
   "execution_count": 5,
   "metadata": {},
   "outputs": [],
   "source": [
    "clase_extraccion = Extraccion(39.7837304, -100.445882,'usa')\n",
    "    "
   ]
  },
  {
   "cell_type": "code",
   "execution_count": 6,
   "metadata": {},
   "outputs": [
    {
     "name": "stdout",
     "output_type": "stream",
     "text": [
      "La peticion se ha realizado correctamente, se ha devuelto el código de estado: 200 y como razón del código de estado:  OK\n"
     ]
    }
   ],
   "source": [
    "df_meteo_usa = clase_extraccion.llamada_API('meteo')"
   ]
  },
  {
   "cell_type": "code",
   "execution_count": null,
   "metadata": {},
   "outputs": [],
   "source": [
    "df_meteo_usa = clase_extraccion.limpiar_meteo(df_meteo_usa)"
   ]
  },
  {
   "cell_type": "code",
   "execution_count": 8,
   "metadata": {},
   "outputs": [
    {
     "data": {
      "text/html": [
       "<div>\n",
       "<style scoped>\n",
       "    .dataframe tbody tr th:only-of-type {\n",
       "        vertical-align: middle;\n",
       "    }\n",
       "\n",
       "    .dataframe tbody tr th {\n",
       "        vertical-align: top;\n",
       "    }\n",
       "\n",
       "    .dataframe thead th {\n",
       "        text-align: right;\n",
       "    }\n",
       "</style>\n",
       "<table border=\"1\" class=\"dataframe\">\n",
       "  <thead>\n",
       "    <tr style=\"text-align: right;\">\n",
       "      <th></th>\n",
       "      <th>timepoint</th>\n",
       "      <th>cloudcover</th>\n",
       "      <th>highcloud</th>\n",
       "      <th>fecha</th>\n",
       "      <th>pais</th>\n",
       "    </tr>\n",
       "  </thead>\n",
       "  <tbody>\n",
       "    <tr>\n",
       "      <th>0</th>\n",
       "      <td>3</td>\n",
       "      <td>7</td>\n",
       "      <td>-9999</td>\n",
       "      <td>2023-01-11</td>\n",
       "      <td>usa</td>\n",
       "    </tr>\n",
       "    <tr>\n",
       "      <th>1</th>\n",
       "      <td>6</td>\n",
       "      <td>8</td>\n",
       "      <td>-9999</td>\n",
       "      <td>2023-01-11</td>\n",
       "      <td>usa</td>\n",
       "    </tr>\n",
       "  </tbody>\n",
       "</table>\n",
       "</div>"
      ],
      "text/plain": [
       "   timepoint  cloudcover  highcloud       fecha pais\n",
       "0          3           7      -9999  2023-01-11  usa\n",
       "1          6           8      -9999  2023-01-11  usa"
      ]
     },
     "execution_count": 8,
     "metadata": {},
     "output_type": "execute_result"
    }
   ],
   "source": [
    "df_meteo_usa.head(2)"
   ]
  },
  {
   "cell_type": "code",
   "execution_count": 9,
   "metadata": {},
   "outputs": [],
   "source": [
    "clase_extraccion = Extraccion(-24.7761086, 134.755,'australia')"
   ]
  },
  {
   "cell_type": "code",
   "execution_count": 17,
   "metadata": {},
   "outputs": [
    {
     "name": "stdout",
     "output_type": "stream",
     "text": [
      "La peticion se ha realizado correctamente, se ha devuelto el código de estado: 200 y como razón del código de estado:  OK\n"
     ]
    }
   ],
   "source": [
    "df_meteo_australia = clase_extraccion.llamada_API('meteo')"
   ]
  },
  {
   "cell_type": "code",
   "execution_count": null,
   "metadata": {},
   "outputs": [],
   "source": [
    "df_meteo_australia = clase_extraccion.limpiar_meteo(df_meteo_australia)"
   ]
  },
  {
   "cell_type": "code",
   "execution_count": 19,
   "metadata": {},
   "outputs": [
    {
     "data": {
      "text/html": [
       "<div>\n",
       "<style scoped>\n",
       "    .dataframe tbody tr th:only-of-type {\n",
       "        vertical-align: middle;\n",
       "    }\n",
       "\n",
       "    .dataframe tbody tr th {\n",
       "        vertical-align: top;\n",
       "    }\n",
       "\n",
       "    .dataframe thead th {\n",
       "        text-align: right;\n",
       "    }\n",
       "</style>\n",
       "<table border=\"1\" class=\"dataframe\">\n",
       "  <thead>\n",
       "    <tr style=\"text-align: right;\">\n",
       "      <th></th>\n",
       "      <th>timepoint</th>\n",
       "      <th>cloudcover</th>\n",
       "      <th>highcloud</th>\n",
       "      <th>fecha</th>\n",
       "      <th>pais</th>\n",
       "    </tr>\n",
       "  </thead>\n",
       "  <tbody>\n",
       "    <tr>\n",
       "      <th>0</th>\n",
       "      <td>3</td>\n",
       "      <td>2</td>\n",
       "      <td>-9999</td>\n",
       "      <td>2023-01-11</td>\n",
       "      <td>australia</td>\n",
       "    </tr>\n",
       "  </tbody>\n",
       "</table>\n",
       "</div>"
      ],
      "text/plain": [
       "   timepoint  cloudcover  highcloud       fecha       pais\n",
       "0          3           2      -9999  2023-01-11  australia"
      ]
     },
     "execution_count": 19,
     "metadata": {},
     "output_type": "execute_result"
    }
   ],
   "source": [
    "df_meteo_australia.head(1)"
   ]
  },
  {
   "cell_type": "code",
   "execution_count": 28,
   "metadata": {},
   "outputs": [],
   "source": [
    "clase_extraccion = Extraccion(-28.8166236, 24.991639,'south africa')"
   ]
  },
  {
   "cell_type": "code",
   "execution_count": 29,
   "metadata": {},
   "outputs": [
    {
     "name": "stdout",
     "output_type": "stream",
     "text": [
      "La peticion se ha realizado correctamente, se ha devuelto el código de estado: 200 y como razón del código de estado:  OK\n"
     ]
    }
   ],
   "source": [
    "df_meteo_southafrica = clase_extraccion.llamada_API('meteo')"
   ]
  },
  {
   "cell_type": "code",
   "execution_count": null,
   "metadata": {},
   "outputs": [],
   "source": [
    "df_meteo_southafrica = clase_extraccion.limpiar_meteo(df_meteo_southafrica)"
   ]
  },
  {
   "cell_type": "code",
   "execution_count": 31,
   "metadata": {},
   "outputs": [
    {
     "data": {
      "text/html": [
       "<div>\n",
       "<style scoped>\n",
       "    .dataframe tbody tr th:only-of-type {\n",
       "        vertical-align: middle;\n",
       "    }\n",
       "\n",
       "    .dataframe tbody tr th {\n",
       "        vertical-align: top;\n",
       "    }\n",
       "\n",
       "    .dataframe thead th {\n",
       "        text-align: right;\n",
       "    }\n",
       "</style>\n",
       "<table border=\"1\" class=\"dataframe\">\n",
       "  <thead>\n",
       "    <tr style=\"text-align: right;\">\n",
       "      <th></th>\n",
       "      <th>timepoint</th>\n",
       "      <th>cloudcover</th>\n",
       "      <th>highcloud</th>\n",
       "      <th>fecha</th>\n",
       "      <th>pais</th>\n",
       "    </tr>\n",
       "  </thead>\n",
       "  <tbody>\n",
       "    <tr>\n",
       "      <th>0</th>\n",
       "      <td>3</td>\n",
       "      <td>6</td>\n",
       "      <td>-9999</td>\n",
       "      <td>2023-01-11</td>\n",
       "      <td>south africa</td>\n",
       "    </tr>\n",
       "  </tbody>\n",
       "</table>\n",
       "</div>"
      ],
      "text/plain": [
       "   timepoint  cloudcover  highcloud       fecha          pais\n",
       "0          3           6      -9999  2023-01-11  south africa"
      ]
     },
     "execution_count": 31,
     "metadata": {},
     "output_type": "execute_result"
    }
   ],
   "source": [
    "df_meteo_southafrica.head(1)"
   ]
  },
  {
   "cell_type": "code",
   "execution_count": 33,
   "metadata": {},
   "outputs": [],
   "source": [
    "clase_extraccion = Extraccion(5.6816069, -144.2489081,'papua new guinea')"
   ]
  },
  {
   "cell_type": "code",
   "execution_count": 36,
   "metadata": {},
   "outputs": [
    {
     "name": "stdout",
     "output_type": "stream",
     "text": [
      "La peticion se ha realizado correctamente, se ha devuelto el código de estado: 200 y como razón del código de estado:  OK\n"
     ]
    }
   ],
   "source": [
    "df_meteo_newguinea = clase_extraccion.llamada_API('meteo')"
   ]
  },
  {
   "cell_type": "code",
   "execution_count": null,
   "metadata": {},
   "outputs": [],
   "source": [
    "df_meteo_newguinea = clase_extraccion.limpiar_meteo(df_meteo_newguinea)"
   ]
  },
  {
   "cell_type": "code",
   "execution_count": 38,
   "metadata": {},
   "outputs": [
    {
     "data": {
      "text/html": [
       "<div>\n",
       "<style scoped>\n",
       "    .dataframe tbody tr th:only-of-type {\n",
       "        vertical-align: middle;\n",
       "    }\n",
       "\n",
       "    .dataframe tbody tr th {\n",
       "        vertical-align: top;\n",
       "    }\n",
       "\n",
       "    .dataframe thead th {\n",
       "        text-align: right;\n",
       "    }\n",
       "</style>\n",
       "<table border=\"1\" class=\"dataframe\">\n",
       "  <thead>\n",
       "    <tr style=\"text-align: right;\">\n",
       "      <th></th>\n",
       "      <th>timepoint</th>\n",
       "      <th>cloudcover</th>\n",
       "      <th>highcloud</th>\n",
       "      <th>fecha</th>\n",
       "      <th>pais</th>\n",
       "    </tr>\n",
       "  </thead>\n",
       "  <tbody>\n",
       "    <tr>\n",
       "      <th>0</th>\n",
       "      <td>3</td>\n",
       "      <td>1</td>\n",
       "      <td>-9999</td>\n",
       "      <td>2023-01-11</td>\n",
       "      <td>papua new guinea</td>\n",
       "    </tr>\n",
       "  </tbody>\n",
       "</table>\n",
       "</div>"
      ],
      "text/plain": [
       "   timepoint  cloudcover  highcloud       fecha              pais\n",
       "0          3           1      -9999  2023-01-11  papua new guinea"
      ]
     },
     "execution_count": 38,
     "metadata": {},
     "output_type": "execute_result"
    }
   ],
   "source": [
    "df_meteo_newguinea.head(1)"
   ]
  },
  {
   "cell_type": "code",
   "execution_count": 41,
   "metadata": {},
   "outputs": [],
   "source": [
    "clase_extraccion = Extraccion(-41.5000831, 144.2489081,'new zealand')"
   ]
  },
  {
   "cell_type": "code",
   "execution_count": 39,
   "metadata": {},
   "outputs": [
    {
     "name": "stdout",
     "output_type": "stream",
     "text": [
      "La peticion se ha realizado correctamente, se ha devuelto el código de estado: 200 y como razón del código de estado:  OK\n"
     ]
    }
   ],
   "source": [
    "df_meteo_newzealand = clase_extraccion.llamada_API('meteo')"
   ]
  },
  {
   "cell_type": "code",
   "execution_count": null,
   "metadata": {},
   "outputs": [],
   "source": [
    "df_meteo_newzealand = clase_extraccion.limpiar_meteo(df_meteo_newzealand)"
   ]
  },
  {
   "cell_type": "code",
   "execution_count": 44,
   "metadata": {},
   "outputs": [
    {
     "data": {
      "text/html": [
       "<div>\n",
       "<style scoped>\n",
       "    .dataframe tbody tr th:only-of-type {\n",
       "        vertical-align: middle;\n",
       "    }\n",
       "\n",
       "    .dataframe tbody tr th {\n",
       "        vertical-align: top;\n",
       "    }\n",
       "\n",
       "    .dataframe thead th {\n",
       "        text-align: right;\n",
       "    }\n",
       "</style>\n",
       "<table border=\"1\" class=\"dataframe\">\n",
       "  <thead>\n",
       "    <tr style=\"text-align: right;\">\n",
       "      <th></th>\n",
       "      <th>timepoint</th>\n",
       "      <th>cloudcover</th>\n",
       "      <th>highcloud</th>\n",
       "      <th>fecha</th>\n",
       "      <th>pais</th>\n",
       "    </tr>\n",
       "  </thead>\n",
       "  <tbody>\n",
       "    <tr>\n",
       "      <th>0</th>\n",
       "      <td>3</td>\n",
       "      <td>1</td>\n",
       "      <td>-9999</td>\n",
       "      <td>2023-01-11</td>\n",
       "      <td>new zealand</td>\n",
       "    </tr>\n",
       "    <tr>\n",
       "      <th>1</th>\n",
       "      <td>6</td>\n",
       "      <td>1</td>\n",
       "      <td>-9999</td>\n",
       "      <td>2023-01-11</td>\n",
       "      <td>new zealand</td>\n",
       "    </tr>\n",
       "  </tbody>\n",
       "</table>\n",
       "</div>"
      ],
      "text/plain": [
       "   timepoint  cloudcover  highcloud       fecha         pais\n",
       "0          3           1      -9999  2023-01-11  new zealand\n",
       "1          6           1      -9999  2023-01-11  new zealand"
      ]
     },
     "execution_count": 44,
     "metadata": {},
     "output_type": "execute_result"
    }
   ],
   "source": [
    "df_meteo_newzealand.head(2)"
   ]
  },
  {
   "cell_type": "code",
   "execution_count": 54,
   "metadata": {},
   "outputs": [
    {
     "ename": "KeyError",
     "evalue": "'fecha'",
     "output_type": "error",
     "traceback": [
      "\u001b[0;31m---------------------------------------------------------------------------\u001b[0m",
      "\u001b[0;31mKeyError\u001b[0m                                  Traceback (most recent call last)",
      "\u001b[0;32m/tmp/ipykernel_761/1079320844.py\u001b[0m in \u001b[0;36m<module>\u001b[0;34m\u001b[0m\n\u001b[1;32m      1\u001b[0m \u001b[0;31m# UNIR DF'S\u001b[0m\u001b[0;34m\u001b[0m\u001b[0;34m\u001b[0m\u001b[0m\n\u001b[0;32m----> 2\u001b[0;31m \u001b[0mdef_meteo_attacks\u001b[0m \u001b[0;34m=\u001b[0m \u001b[0mclase_extraccion\u001b[0m\u001b[0;34m.\u001b[0m\u001b[0mjuntar_dfs\u001b[0m\u001b[0;34m(\u001b[0m\u001b[0mdf_attacks\u001b[0m\u001b[0;34m,\u001b[0m \u001b[0mdf_etl2\u001b[0m\u001b[0;34m)\u001b[0m\u001b[0;34m\u001b[0m\u001b[0;34m\u001b[0m\u001b[0m\n\u001b[0m\u001b[1;32m      3\u001b[0m \u001b[0mdef_meteo_attacks\u001b[0m\u001b[0;34m.\u001b[0m\u001b[0mhead\u001b[0m\u001b[0;34m(\u001b[0m\u001b[0;36m2\u001b[0m\u001b[0;34m)\u001b[0m\u001b[0;34m\u001b[0m\u001b[0;34m\u001b[0m\u001b[0m\n",
      "\u001b[0;32m/tmp/ipykernel_761/3499390894.py\u001b[0m in \u001b[0;36mjuntar_dfs\u001b[0;34m(self, df, df_etl2)\u001b[0m\n\u001b[1;32m     63\u001b[0m     \u001b[0;32mdef\u001b[0m \u001b[0mjuntar_dfs\u001b[0m\u001b[0;34m(\u001b[0m\u001b[0mself\u001b[0m\u001b[0;34m,\u001b[0m \u001b[0mdf\u001b[0m\u001b[0;34m,\u001b[0m \u001b[0mdf_etl2\u001b[0m\u001b[0;34m)\u001b[0m\u001b[0;34m:\u001b[0m\u001b[0;34m\u001b[0m\u001b[0;34m\u001b[0m\u001b[0m\n\u001b[1;32m     64\u001b[0m \u001b[0;34m\u001b[0m\u001b[0m\n\u001b[0;32m---> 65\u001b[0;31m         \u001b[0mdf_hoy\u001b[0m \u001b[0;34m=\u001b[0m \u001b[0mpd\u001b[0m\u001b[0;34m.\u001b[0m\u001b[0mmerge\u001b[0m\u001b[0;34m(\u001b[0m\u001b[0mdf\u001b[0m \u001b[0;34m,\u001b[0m \u001b[0mdf_etl2\u001b[0m \u001b[0;34m,\u001b[0m \u001b[0mon\u001b[0m\u001b[0;34m=\u001b[0m\u001b[0;34m[\u001b[0m\u001b[0;34m'fecha'\u001b[0m\u001b[0;34m,\u001b[0m \u001b[0;34m\"timepoint\"\u001b[0m\u001b[0;34m,\u001b[0m \u001b[0;34m\"pais\"\u001b[0m\u001b[0;34m]\u001b[0m\u001b[0;34m,\u001b[0m \u001b[0mhow\u001b[0m \u001b[0;34m=\u001b[0m \u001b[0;34m\"right\"\u001b[0m\u001b[0;34m)\u001b[0m\u001b[0;34m\u001b[0m\u001b[0;34m\u001b[0m\u001b[0m\n\u001b[0m\u001b[1;32m     66\u001b[0m         \u001b[0mprint\u001b[0m\u001b[0;34m(\u001b[0m\u001b[0;34m\"El df de hoy es \"\u001b[0m\u001b[0;34m,\u001b[0m \u001b[0mdf_hoy\u001b[0m\u001b[0;34m.\u001b[0m\u001b[0mcolumns\u001b[0m\u001b[0;34m)\u001b[0m\u001b[0;34m\u001b[0m\u001b[0;34m\u001b[0m\u001b[0m\n\u001b[1;32m     67\u001b[0m         \u001b[0mprint\u001b[0m\u001b[0;34m(\u001b[0m\u001b[0;34m\"-----------------------------------------\"\u001b[0m\u001b[0;34m)\u001b[0m\u001b[0;34m\u001b[0m\u001b[0;34m\u001b[0m\u001b[0m\n",
      "\u001b[0;32m~/anaconda3/lib/python3.9/site-packages/pandas/core/reshape/merge.py\u001b[0m in \u001b[0;36mmerge\u001b[0;34m(left, right, how, on, left_on, right_on, left_index, right_index, sort, suffixes, copy, indicator, validate)\u001b[0m\n\u001b[1;32m    104\u001b[0m     \u001b[0mvalidate\u001b[0m\u001b[0;34m:\u001b[0m \u001b[0mstr\u001b[0m \u001b[0;34m|\u001b[0m \u001b[0;32mNone\u001b[0m \u001b[0;34m=\u001b[0m \u001b[0;32mNone\u001b[0m\u001b[0;34m,\u001b[0m\u001b[0;34m\u001b[0m\u001b[0;34m\u001b[0m\u001b[0m\n\u001b[1;32m    105\u001b[0m ) -> DataFrame:\n\u001b[0;32m--> 106\u001b[0;31m     op = _MergeOperation(\n\u001b[0m\u001b[1;32m    107\u001b[0m         \u001b[0mleft\u001b[0m\u001b[0;34m,\u001b[0m\u001b[0;34m\u001b[0m\u001b[0;34m\u001b[0m\u001b[0m\n\u001b[1;32m    108\u001b[0m         \u001b[0mright\u001b[0m\u001b[0;34m,\u001b[0m\u001b[0;34m\u001b[0m\u001b[0;34m\u001b[0m\u001b[0m\n",
      "\u001b[0;32m~/anaconda3/lib/python3.9/site-packages/pandas/core/reshape/merge.py\u001b[0m in \u001b[0;36m__init__\u001b[0;34m(self, left, right, how, on, left_on, right_on, axis, left_index, right_index, sort, suffixes, copy, indicator, validate)\u001b[0m\n\u001b[1;32m    697\u001b[0m             \u001b[0mself\u001b[0m\u001b[0;34m.\u001b[0m\u001b[0mright_join_keys\u001b[0m\u001b[0;34m,\u001b[0m\u001b[0;34m\u001b[0m\u001b[0;34m\u001b[0m\u001b[0m\n\u001b[1;32m    698\u001b[0m             \u001b[0mself\u001b[0m\u001b[0;34m.\u001b[0m\u001b[0mjoin_names\u001b[0m\u001b[0;34m,\u001b[0m\u001b[0;34m\u001b[0m\u001b[0;34m\u001b[0m\u001b[0m\n\u001b[0;32m--> 699\u001b[0;31m         ) = self._get_merge_keys()\n\u001b[0m\u001b[1;32m    700\u001b[0m \u001b[0;34m\u001b[0m\u001b[0m\n\u001b[1;32m    701\u001b[0m         \u001b[0;31m# validate the merge keys dtypes. We may need to coerce\u001b[0m\u001b[0;34m\u001b[0m\u001b[0;34m\u001b[0m\u001b[0m\n",
      "\u001b[0;32m~/anaconda3/lib/python3.9/site-packages/pandas/core/reshape/merge.py\u001b[0m in \u001b[0;36m_get_merge_keys\u001b[0;34m(self)\u001b[0m\n\u001b[1;32m   1094\u001b[0m                     \u001b[0;32mif\u001b[0m \u001b[0;32mnot\u001b[0m \u001b[0mis_rkey\u001b[0m\u001b[0;34m(\u001b[0m\u001b[0mrk\u001b[0m\u001b[0;34m)\u001b[0m\u001b[0;34m:\u001b[0m\u001b[0;34m\u001b[0m\u001b[0;34m\u001b[0m\u001b[0m\n\u001b[1;32m   1095\u001b[0m                         \u001b[0;32mif\u001b[0m \u001b[0mrk\u001b[0m \u001b[0;32mis\u001b[0m \u001b[0;32mnot\u001b[0m \u001b[0;32mNone\u001b[0m\u001b[0;34m:\u001b[0m\u001b[0;34m\u001b[0m\u001b[0;34m\u001b[0m\u001b[0m\n\u001b[0;32m-> 1096\u001b[0;31m                             \u001b[0mright_keys\u001b[0m\u001b[0;34m.\u001b[0m\u001b[0mappend\u001b[0m\u001b[0;34m(\u001b[0m\u001b[0mright\u001b[0m\u001b[0;34m.\u001b[0m\u001b[0m_get_label_or_level_values\u001b[0m\u001b[0;34m(\u001b[0m\u001b[0mrk\u001b[0m\u001b[0;34m)\u001b[0m\u001b[0;34m)\u001b[0m\u001b[0;34m\u001b[0m\u001b[0;34m\u001b[0m\u001b[0m\n\u001b[0m\u001b[1;32m   1097\u001b[0m                         \u001b[0;32melse\u001b[0m\u001b[0;34m:\u001b[0m\u001b[0;34m\u001b[0m\u001b[0;34m\u001b[0m\u001b[0m\n\u001b[1;32m   1098\u001b[0m                             \u001b[0;31m# work-around for merge_asof(right_index=True)\u001b[0m\u001b[0;34m\u001b[0m\u001b[0;34m\u001b[0m\u001b[0m\n",
      "\u001b[0;32m~/anaconda3/lib/python3.9/site-packages/pandas/core/generic.py\u001b[0m in \u001b[0;36m_get_label_or_level_values\u001b[0;34m(self, key, axis)\u001b[0m\n\u001b[1;32m   1777\u001b[0m             \u001b[0mvalues\u001b[0m \u001b[0;34m=\u001b[0m \u001b[0mself\u001b[0m\u001b[0;34m.\u001b[0m\u001b[0maxes\u001b[0m\u001b[0;34m[\u001b[0m\u001b[0maxis\u001b[0m\u001b[0;34m]\u001b[0m\u001b[0;34m.\u001b[0m\u001b[0mget_level_values\u001b[0m\u001b[0;34m(\u001b[0m\u001b[0mkey\u001b[0m\u001b[0;34m)\u001b[0m\u001b[0;34m.\u001b[0m\u001b[0m_values\u001b[0m\u001b[0;34m\u001b[0m\u001b[0;34m\u001b[0m\u001b[0m\n\u001b[1;32m   1778\u001b[0m         \u001b[0;32melse\u001b[0m\u001b[0;34m:\u001b[0m\u001b[0;34m\u001b[0m\u001b[0;34m\u001b[0m\u001b[0m\n\u001b[0;32m-> 1779\u001b[0;31m             \u001b[0;32mraise\u001b[0m \u001b[0mKeyError\u001b[0m\u001b[0;34m(\u001b[0m\u001b[0mkey\u001b[0m\u001b[0;34m)\u001b[0m\u001b[0;34m\u001b[0m\u001b[0;34m\u001b[0m\u001b[0m\n\u001b[0m\u001b[1;32m   1780\u001b[0m \u001b[0;34m\u001b[0m\u001b[0m\n\u001b[1;32m   1781\u001b[0m         \u001b[0;31m# Check for duplicates\u001b[0m\u001b[0;34m\u001b[0m\u001b[0;34m\u001b[0m\u001b[0m\n",
      "\u001b[0;31mKeyError\u001b[0m: 'fecha'"
     ]
    }
   ],
   "source": [
    "# UNIR DF'S\n",
    "def_meteo_attacks = clase_extraccion.juntar_dfs(df_attacks, df_etl2)\n",
    "def_meteo_attacks.head(2)"
   ]
  }
 ],
 "metadata": {
  "kernelspec": {
   "display_name": "base",
   "language": "python",
   "name": "python3"
  },
  "language_info": {
   "codemirror_mode": {
    "name": "ipython",
    "version": 3
   },
   "file_extension": ".py",
   "mimetype": "text/x-python",
   "name": "python",
   "nbconvert_exporter": "python",
   "pygments_lexer": "ipython3",
   "version": "3.9.7"
  },
  "orig_nbformat": 4,
  "vscode": {
   "interpreter": {
    "hash": "67102f693e510b408920f064fed8f652c879a90e6c1ff13ccd6f48ea2114128c"
   }
  }
 },
 "nbformat": 4,
 "nbformat_minor": 2
}

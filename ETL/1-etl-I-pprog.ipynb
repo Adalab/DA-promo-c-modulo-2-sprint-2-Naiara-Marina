{
 "cells": [
  {
   "attachments": {},
   "cell_type": "markdown",
   "metadata": {},
   "source": [
    "**Pair Programming ETL I**"
   ]
  },
  {
   "attachments": {},
   "cell_type": "markdown",
   "metadata": {},
   "source": [
    "\n",
    "Crearos un diccionario donde:\n",
    "\n",
    "Las keys sean los nombres de los paises.\n",
    "\n",
    "Los values sean las coordenadas de los paises en formato lista.\n",
    "\n",
    "Iterar por el diccionario. Dentro del for haremos la llamada a la API como hemos aprendido en las clases invertidas.\n",
    "\n",
    "Recordamos que para iterar por el diccionario tenemos que seguir la siguiente estructura:\n",
    "for key, value in diccionario.items():\n",
    "    print(key, value)\n",
    "\n",
    "Crearnos un dataframe vacío donde iremos concatenando los datos obtenidos de la API cada país.\n",
    "\n",
    "Guardad el csv ya que mañana lo necesitaremos para hacer el ejercicio de pair programming."
   ]
  },
  {
   "attachments": {},
   "cell_type": "markdown",
   "metadata": {},
   "source": [
    "Vamos a nutrir los datos de los ataques de los tiburones con información climática de los paises que tenemos. Para eso vamos a usar la API del clima que hemos aprendido en la clase invertida:\n"
   ]
  },
  {
   "cell_type": "code",
   "execution_count": 1,
   "metadata": {},
   "outputs": [],
   "source": [
    "from IPython.core.interactiveshell import InteractiveShell # Nos permite mostar más de una salida por celda\n",
    "InteractiveShell.ast_node_interactivity = \"all\" # Nos permite mostar más de una salida por celda\n",
    "\n",
    "import requests\n",
    "import pandas as pd\n",
    "import numpy as np\n"
   ]
  },
  {
   "cell_type": "code",
   "execution_count": 2,
   "metadata": {},
   "outputs": [],
   "source": [
    "url = 'http://www.7timer.info/bin/api.pl?lon=-{lon}&lat={lat}&product=meteo&output=json'"
   ]
  },
  {
   "cell_type": "code",
   "execution_count": 3,
   "metadata": {},
   "outputs": [],
   "source": [
    "response= requests.get (url)"
   ]
  },
  {
   "cell_type": "code",
   "execution_count": 4,
   "metadata": {},
   "outputs": [],
   "source": [
    "diccionario={'USA':['-100.445882', '39.7837304'], 'Australia':['134.755', '-24.7761086'], 'South Africa':['24.991639', '-28.8166236'],'New Zealand': ['172.8344077', '-41.5000831'], 'Papua New Guinea': ['144.2489081','-5.6816069' ] }"
   ]
  },
  {
   "cell_type": "code",
   "execution_count": 5,
   "metadata": {},
   "outputs": [],
   "source": [
    "df1=pd.DataFrame()\n",
    "for k, v in diccionario.items():\n",
    "    \n",
    "    url= f'http://www.7timer.info/bin/api.pl?lon={v[0]}&lat={v[1]}&product=meteo&output=json'\n",
    "    response= requests.get (url)\n",
    "    df=pd.DataFrame.from_dict(pd.json_normalize(response.json()['dataseries']))\n",
    "    df['pais']= k\n",
    "    df1= pd.concat([df1, df])\n",
    "\n",
    "   \n"
   ]
  },
  {
   "cell_type": "code",
   "execution_count": 6,
   "metadata": {},
   "outputs": [
    {
     "data": {
      "text/plain": [
       "array(['USA', 'Australia', 'South Africa', 'New Zealand',\n",
       "       'Papua New Guinea'], dtype=object)"
      ]
     },
     "execution_count": 6,
     "metadata": {},
     "output_type": "execute_result"
    }
   ],
   "source": [
    "df1['pais'].unique()\n"
   ]
  },
  {
   "cell_type": "code",
   "execution_count": 7,
   "metadata": {},
   "outputs": [
    {
     "data": {
      "text/html": [
       "<div>\n",
       "<style scoped>\n",
       "    .dataframe tbody tr th:only-of-type {\n",
       "        vertical-align: middle;\n",
       "    }\n",
       "\n",
       "    .dataframe tbody tr th {\n",
       "        vertical-align: top;\n",
       "    }\n",
       "\n",
       "    .dataframe thead th {\n",
       "        text-align: right;\n",
       "    }\n",
       "</style>\n",
       "<table border=\"1\" class=\"dataframe\">\n",
       "  <thead>\n",
       "    <tr style=\"text-align: right;\">\n",
       "      <th></th>\n",
       "      <th>timepoint</th>\n",
       "      <th>cloudcover</th>\n",
       "      <th>highcloud</th>\n",
       "      <th>midcloud</th>\n",
       "      <th>lowcloud</th>\n",
       "      <th>rh_profile</th>\n",
       "      <th>wind_profile</th>\n",
       "      <th>temp2m</th>\n",
       "      <th>lifted_index</th>\n",
       "      <th>rh2m</th>\n",
       "      <th>msl_pressure</th>\n",
       "      <th>prec_type</th>\n",
       "      <th>prec_amount</th>\n",
       "      <th>snow_depth</th>\n",
       "      <th>wind10m.direction</th>\n",
       "      <th>wind10m.speed</th>\n",
       "      <th>pais</th>\n",
       "    </tr>\n",
       "  </thead>\n",
       "  <tbody>\n",
       "    <tr>\n",
       "      <th>45</th>\n",
       "      <td>138</td>\n",
       "      <td>6</td>\n",
       "      <td>-9999</td>\n",
       "      <td>-9999</td>\n",
       "      <td>-9999</td>\n",
       "      <td>[{'layer': '950mb', 'rh': -9999}, {'layer': '9...</td>\n",
       "      <td>[{'layer': '950mb', 'direction': -9999, 'speed...</td>\n",
       "      <td>17</td>\n",
       "      <td>-1</td>\n",
       "      <td>9</td>\n",
       "      <td>1012</td>\n",
       "      <td>rain</td>\n",
       "      <td>3</td>\n",
       "      <td>0</td>\n",
       "      <td>300</td>\n",
       "      <td>2</td>\n",
       "      <td>New Zealand</td>\n",
       "    </tr>\n",
       "    <tr>\n",
       "      <th>63</th>\n",
       "      <td>192</td>\n",
       "      <td>9</td>\n",
       "      <td>-9999</td>\n",
       "      <td>-9999</td>\n",
       "      <td>-9999</td>\n",
       "      <td>[{'layer': '950mb', 'rh': -9999}, {'layer': '9...</td>\n",
       "      <td>[{'layer': '950mb', 'direction': -9999, 'speed...</td>\n",
       "      <td>13</td>\n",
       "      <td>2</td>\n",
       "      <td>15</td>\n",
       "      <td>-9999</td>\n",
       "      <td>rain</td>\n",
       "      <td>6</td>\n",
       "      <td>0</td>\n",
       "      <td>230</td>\n",
       "      <td>2</td>\n",
       "      <td>Papua New Guinea</td>\n",
       "    </tr>\n",
       "  </tbody>\n",
       "</table>\n",
       "</div>"
      ],
      "text/plain": [
       "    timepoint  cloudcover  highcloud  midcloud  lowcloud  \\\n",
       "45        138           6      -9999     -9999     -9999   \n",
       "63        192           9      -9999     -9999     -9999   \n",
       "\n",
       "                                           rh_profile  \\\n",
       "45  [{'layer': '950mb', 'rh': -9999}, {'layer': '9...   \n",
       "63  [{'layer': '950mb', 'rh': -9999}, {'layer': '9...   \n",
       "\n",
       "                                         wind_profile  temp2m  lifted_index  \\\n",
       "45  [{'layer': '950mb', 'direction': -9999, 'speed...      17            -1   \n",
       "63  [{'layer': '950mb', 'direction': -9999, 'speed...      13             2   \n",
       "\n",
       "    rh2m  msl_pressure prec_type  prec_amount  snow_depth wind10m.direction  \\\n",
       "45     9          1012      rain            3           0               300   \n",
       "63    15         -9999      rain            6           0               230   \n",
       "\n",
       "    wind10m.speed              pais  \n",
       "45              2       New Zealand  \n",
       "63              2  Papua New Guinea  "
      ]
     },
     "execution_count": 7,
     "metadata": {},
     "output_type": "execute_result"
    }
   ],
   "source": [
    "df1.sample(2)"
   ]
  },
  {
   "cell_type": "code",
   "execution_count": 8,
   "metadata": {},
   "outputs": [],
   "source": [
    "df_ETL1=df1.to_csv('df_ETL1_clima.csv')"
   ]
  },
  {
   "cell_type": "code",
   "execution_count": 9,
   "metadata": {},
   "outputs": [],
   "source": [
    "df_ETL1=df1.to_pickle('df_ETL1_clima.pkl')"
   ]
  }
 ],
 "metadata": {
  "kernelspec": {
   "display_name": "Python 3",
   "language": "python",
   "name": "python3"
  },
  "language_info": {
   "codemirror_mode": {
    "name": "ipython",
    "version": 3
   },
   "file_extension": ".py",
   "mimetype": "text/x-python",
   "name": "python",
   "nbconvert_exporter": "python",
   "pygments_lexer": "ipython3",
   "version": "3.10.9"
  },
  "orig_nbformat": 4,
  "vscode": {
   "interpreter": {
    "hash": "1ea59b95c08c44cbfc884ec03159e00f96e4bf3b6d22daf6aa1f91dffc766d1d"
   }
  }
 },
 "nbformat": 4,
 "nbformat_minor": 2
}
